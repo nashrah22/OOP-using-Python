{
 "cells": [
  {
   "cell_type": "code",
   "execution_count": null,
   "metadata": {},
   "outputs": [],
   "source": [
    "class Add:\n",
    "    def add(self,a,b):\n",
    "        return a+b"
   ]
  },
  {
   "cell_type": "code",
   "execution_count": null,
   "metadata": {},
   "outputs": [],
   "source": [
    "x = Add()"
   ]
  },
  {
   "cell_type": "code",
   "execution_count": null,
   "metadata": {},
   "outputs": [],
   "source": [
    "x.add(3,4)\n"
   ]
  },
  {
   "cell_type": "code",
   "execution_count": null,
   "metadata": {},
   "outputs": [],
   "source": [
    "my_list =['a',1 , 2, 4, 5, 0]"
   ]
  },
  {
   "cell_type": "code",
   "execution_count": null,
   "metadata": {},
   "outputs": [],
   "source": [
    "print(my_list)"
   ]
  },
  {
   "cell_type": "code",
   "execution_count": null,
   "metadata": {},
   "outputs": [],
   "source": [
    "print(len(my_list))\n",
    "print(type(my_list))\n"
   ]
  },
  {
   "cell_type": "markdown",
   "metadata": {},
   "source": [
    "# List - Accessing items, chage,insert and delete\n"
   ]
  },
  {
   "cell_type": "code",
   "execution_count": null,
   "metadata": {},
   "outputs": [],
   "source": [
    "print(my_list[0])\n",
    "print(my_list[-2])\n",
    "\n",
    "print(my_list[0:6])\n",
    "print(my_list[:6])\n",
    "\n",
    "print(my_list[0:])\n",
    "\n",
    "print(my_list[0:4])\n",
    "print(my_list[-6:-2])\n",
    "print(my_list)"
   ]
  },
  {
   "cell_type": "markdown",
   "metadata": {},
   "source": [
    "#Chaging list items"
   ]
  },
  {
   "cell_type": "code",
   "execution_count": null,
   "metadata": {},
   "outputs": [],
   "source": [
    "print(my_list)\n",
    "my_list[0]= 0\n",
    "\n",
    "print(my_list)\n",
    "my_list[2:4]= [\"a\",\"a\"]\n",
    "#print(my_list)"
   ]
  },
  {
   "cell_type": "code",
   "execution_count": null,
   "metadata": {},
   "outputs": [],
   "source": [
    "# Insert and append items in list:\n",
    "my_list.insert(3,\"b\")\n",
    "print(my_list)\n",
    "my_list.append(7)\n",
    "print(my_list)"
   ]
  },
  {
   "cell_type": "code",
   "execution_count": null,
   "metadata": {},
   "outputs": [],
   "source": [
    "#Remove items\n",
    "# remove, pop, del, clear\n",
    "#my_list.remove(7)\n",
    "#print(my_list)\n",
    "#my_list.pop(6)\n",
    "print(my_list)\n",
    "#del my_list[0]\n",
    "print(my_list)\n",
    "#my_list.clear()\n",
    "print(my_list)"
   ]
  },
  {
   "cell_type": "code",
   "execution_count": null,
   "metadata": {},
   "outputs": [],
   "source": [
    "# dictionary\n",
    "student ={\n",
    "\"ID\" : 1,\n",
    "\"Name\": \"Hasan\",\n",
    "\"Year\":2022\n",
    "\n",
    "}\n",
    "\n",
    "print(student)\n",
    "print(student[\"ID\"])"
   ]
  },
  {
   "cell_type": "code",
   "execution_count": null,
   "metadata": {},
   "outputs": [],
   "source": [
    "print(student.values())\n"
   ]
  },
  {
   "cell_type": "markdown",
   "metadata": {},
   "source": [
    "# If else"
   ]
  },
  {
   "cell_type": "code",
   "execution_count": null,
   "metadata": {},
   "outputs": [],
   "source": [
    "count_num= [0,1,2,3,4,5,6,7,8,9]\n",
    "i=2\n",
    "j=2\n",
    "if count_num[j]> i:\n",
    "    print(count_num[j])\n",
    "else:\n",
    "        j=j+1\n",
    "        print(count_num[j])"
   ]
  },
  {
   "cell_type": "code",
   "execution_count": null,
   "metadata": {},
   "outputs": [],
   "source": [
    "x=10\n",
    "y=20\n",
    "\n",
    "if x>y:\n",
    "    print(\"x is geater\")\n",
    "elif x==y:\n",
    "    print(\"x and y are equal\")\n",
    "else:\n",
    "    print(\"x is smaller than y\")\n"
   ]
  },
  {
   "cell_type": "code",
   "execution_count": null,
   "metadata": {},
   "outputs": [],
   "source": [
    "#print(\"x is greater than y\") if x>y else print(\"y greater\")"
   ]
  },
  {
   "cell_type": "markdown",
   "metadata": {},
   "source": [
    "# While loop"
   ]
  },
  {
   "cell_type": "code",
   "execution_count": null,
   "metadata": {},
   "outputs": [],
   "source": [
    "k = 0\n",
    "while k<10:\n",
    "    print(k)\n",
    "    k = k+1"
   ]
  },
  {
   "cell_type": "code",
   "execution_count": null,
   "metadata": {},
   "outputs": [],
   "source": [
    "k=0\n",
    "while k<10:\n",
    "    print(count_num[k])\n",
    "    k=k+1"
   ]
  },
  {
   "cell_type": "code",
   "execution_count": null,
   "metadata": {},
   "outputs": [],
   "source": [
    "k=0\n",
    "while k<10:\n",
    "    print(k)\n",
    "    if k==5:\n",
    "        break\n",
    "    k=k+1"
   ]
  },
  {
   "cell_type": "markdown",
   "metadata": {},
   "source": [
    "# For loop"
   ]
  },
  {
   "cell_type": "code",
   "execution_count": null,
   "metadata": {},
   "outputs": [],
   "source": [
    "for x in range(10):\n",
    "    print(x)\n",
    "    x=x+1\n",
    "    if x==9:\n",
    "        break"
   ]
  },
  {
   "cell_type": "code",
   "execution_count": null,
   "metadata": {},
   "outputs": [],
   "source": [
    "num = [\"a\",\"b\",\"c\",\"d\",\"e\",\"f\"]\n",
    "for i in num:\n",
    "    print(i)\n"
   ]
  },
  {
   "cell_type": "code",
   "execution_count": null,
   "metadata": {},
   "outputs": [],
   "source": [
    "for i in range(0,11,5):\n",
    "    print(i)"
   ]
  },
  {
   "cell_type": "code",
   "execution_count": null,
   "metadata": {},
   "outputs": [],
   "source": [
    "a= ['a','b','c','d','e','f']\n",
    "b=[1,2,3,4,5,6]\n",
    "\n",
    "for i in a:\n",
    "    for j in b:\n",
    "        print(i,j)"
   ]
  },
  {
   "cell_type": "markdown",
   "metadata": {},
   "source": [
    "# Function"
   ]
  },
  {
   "cell_type": "code",
   "execution_count": null,
   "metadata": {},
   "outputs": [],
   "source": [
    "def my_func():\n",
    "    print('my function')\n",
    "    \n",
    "my_func()"
   ]
  },
  {
   "cell_type": "code",
   "execution_count": null,
   "metadata": {},
   "outputs": [],
   "source": [
    "#def my_num(a):\n",
    "#    print(a)\n",
    "#my_num(5)\n",
    "#my_num(6)\n",
    "\n",
    "def print_syn(a,b):\n",
    "    #print(\"My name is: \" +a+b)\n",
    "    print(a,b)\n",
    "#print_syn(\" Nashrah \", \" Hasan\")\n",
    "print_syn(1,2)\n",
    "\n",
    "#print_syn(1,2)"
   ]
  },
  {
   "cell_type": "code",
   "execution_count": null,
   "metadata": {},
   "outputs": [],
   "source": [
    "def p_func(a, b):\n",
    "    #print(a, b)\n",
    "    return a+b\n",
    "p_func(4, 5)\n",
    "#p_func(\"Nashrah \", \"Hasan\")   "
   ]
  },
  {
   "cell_type": "code",
   "execution_count": null,
   "metadata": {},
   "outputs": [],
   "source": [
    "num_l =[1,2,3,4,5]\n",
    "\n",
    "def p_n(num):\n",
    "    for x in num:\n",
    "        print(x)\n",
    "        \n",
    "p_n(num_l)"
   ]
  },
  {
   "cell_type": "code",
   "execution_count": null,
   "metadata": {},
   "outputs": [],
   "source": [
    "def multi(x):\n",
    "    return 5*x\n",
    "\n",
    "multi(5)\n",
    "#print(multi(5))"
   ]
  },
  {
   "cell_type": "code",
   "execution_count": null,
   "metadata": {},
   "outputs": [],
   "source": [
    "def my_fact(data):\n",
    "    if(data == 0):\n",
    "        return 1\n",
    "    else:\n",
    "        return(data*my_fact(data-1))\n",
    "    \n",
    "print(my_fact(3))\n",
    "print(my_fact(5))\n"
   ]
  },
  {
   "cell_type": "markdown",
   "metadata": {},
   "source": [
    "# Class\n",
    "\n"
   ]
  },
  {
   "cell_type": "code",
   "execution_count": null,
   "metadata": {},
   "outputs": [],
   "source": [
    "class my_class:\n",
    "    first =0\n",
    "    second =0\n",
    "    ans=0\n",
    "    def __init__(self, a, b):\n",
    "        self.first =a\n",
    "        self.second = b\n",
    "        \n",
    "    def calculate(self):\n",
    "        return self.first + self.second\n",
    "    \n",
    "ob1= my_class(2,4)\n",
    "ob1.calculate()\n",
    "#ob1.ans\n",
    "#ob1.count\n"
   ]
  },
  {
   "cell_type": "code",
   "execution_count": null,
   "metadata": {},
   "outputs": [],
   "source": [
    "class Calculate:\n",
    "    def __init__(self,a,b):\n",
    "        self.a = a\n",
    "        self.b = b\n",
    "        \n",
    "    def add(self):\n",
    "         return self.a + self.b\n",
    "\n",
    "\n",
    "cal= Calculate(2,5)\n",
    "cal.add()\n",
    "\n",
    "#print(cal.a)\n",
    "\n",
    "        "
   ]
  },
  {
   "cell_type": "code",
   "execution_count": null,
   "metadata": {},
   "outputs": [],
   "source": [
    "class Calculation:\n",
    "    #private data members\n",
    "    __a= None\n",
    "    __b= None\n",
    "    \n",
    "    def __init__(self,a,b):\n",
    "        self.__a = a\n",
    "        self.__b = b\n",
    "        \n",
    "    def _operation(self):\n",
    "        return self.__a + self.__b\n",
    "    \n",
    "#ob1= Calculation(1,2)\n",
    "#ob1.operation()\n",
    "# Child/ sub class\n",
    "\n",
    "class Addition(Calculation):\n",
    "    def __init__(self, a,b):\n",
    "        Calculation.__init__(self,a,b)\n",
    "        \n",
    "    def disp_func(self):\n",
    "        print(self._operation())\n",
    "    \n",
    "#b1= Calculation()\n",
    "\n",
    "ob=Addition(3,6)\n",
    "#d._operation()\n",
    "ob.disp_func()\n",
    "        "
   ]
  },
  {
   "cell_type": "code",
   "execution_count": null,
   "metadata": {},
   "outputs": [],
   "source": [
    "class Student:\n",
    "    def __init__(self,name,age,batch):\n",
    "        self.name= name\n",
    "        self.__age= age\n",
    "        self.__batch= batch\n",
    "    \n",
    "    def get_age(self):\n",
    "        return self.__age\n",
    "    def set_age(self,age):\n",
    "        self.__age= age\n",
    "    \n",
    "    def get_batch(self):\n",
    "        return self.__batch\n",
    "    \n",
    "    def set_batch(self,batch):\n",
    "        self.batch= batch\n",
    "    \n",
    "    \n",
    "stu = Student(\"Sara\",23,2021)\n",
    "print('Student Info:',stu.name, stu.get_age(), stu.get_batch())\n",
    "#stu.get_batch()\n",
    "stu.set_age(25)\n",
    "print('Student Info:',stu.name, stu.get_age(), stu.get_batch())\n",
    "\n",
    "\n",
    "        \n",
    "        \n",
    "        "
   ]
  },
  {
   "cell_type": "markdown",
   "metadata": {},
   "source": [
    "# Composition Aggregation:\n",
    "\n"
   ]
  },
  {
   "cell_type": "code",
   "execution_count": null,
   "metadata": {},
   "outputs": [],
   "source": [
    "class Salary:\n",
    "    def __init__(self, monthly_income):\n",
    "        self.monthly_income = monthly_income\n",
    " \n",
    "    def get_total(self):\n",
    "        return (self.monthly_income*12)\n",
    " \n",
    " \n",
    "class Employee:\n",
    "    def __init__(self, monthly_income, bonus):\n",
    "        self.monthly_income = monthly_income\n",
    "        self.bonus = bonus\n",
    "        self.obj_salary = Salary(self.monthly_income)\n",
    " \n",
    "    def annual_salary(self):\n",
    "        return \"Total: \" + str(self.obj_salary.get_total() + self.bonus) + ' €' \n",
    " \n",
    " \n",
    "obj_emp = Employee(2600, 500)\n",
    "print(obj_emp.annual_salary())"
   ]
  },
  {
   "cell_type": "markdown",
   "metadata": {},
   "source": [
    "# Inheritance  Abstraction Interface\n"
   ]
  },
  {
   "cell_type": "code",
   "execution_count": null,
   "metadata": {},
   "outputs": [],
   "source": [
    "class Parent:\n",
    "    def __init__(self,a,b):\n",
    "        self.a=a\n",
    "        self.b=b\n",
    "    def add(self):\n",
    "        print (self.a + self.b)\n",
    "    \n",
    "#child class\n",
    "class Child(Parent):\n",
    "    def __init__(self,a,b):\n",
    "        #Parent.__init__(self,a,b)\n",
    "         super().__init__(a,b)\n",
    "        \n",
    "    def addition(self):\n",
    "        return self.a +self.b\n",
    "    \n",
    "p=Child(10,20)\n",
    "#print(p.add())\n",
    "p.add()\n",
    "p.addition()\n"
   ]
  },
  {
   "cell_type": "code",
   "execution_count": null,
   "metadata": {},
   "outputs": [],
   "source": [
    "from abc import ABC, abstractmethod\n",
    "\n",
    "class Abs(ABC):\n",
    "    @abstractmethod\n",
    "    def abs(self):\n",
    "        pass\n",
    "    \n",
    "class Mean(Abs):\n",
    "    def abs(self,a,b):\n",
    "        return (a+b)/2\n",
    "    \n",
    "ob=Mean()\n",
    "ob.abs(2,6)"
   ]
  },
  {
   "cell_type": "code",
   "execution_count": null,
   "metadata": {},
   "outputs": [],
   "source": [
    "from abc import ABC, abstractmethod\n",
    "class Operation(ABC):\n",
    "    @abstractmethod\n",
    "    def operation(self):\n",
    "        pass\n",
    "    \n",
    "class Add(Operation):\n",
    "    def __init__(self,a,b):\n",
    "        self.__a = a\n",
    "        self.__b = b\n",
    "    def geta(self):\n",
    "        return self.__a\n",
    "    def seta(self,a):\n",
    "        self.__a = a\n",
    "    def setb(self,b):\n",
    "        self.__b = b\n",
    "    def getb(self):\n",
    "        return self.__b\n",
    "    def operation(self):\n",
    "        c = self.geta() + self.getb()\n",
    "        return c\n",
    "    \n",
    "class Div(Operation):\n",
    "    def __init__(self,a,b):\n",
    "        self.__a = a\n",
    "        self.__b = b\n",
    "    def operation(self):\n",
    "        try:\n",
    "            c = self.__a / self.__b\n",
    "            return c\n",
    "        except Exception as e:\n",
    "            print(e)\n",
    "            \n",
    "            \n",
    "            \n",
    "            \n",
    "            \n",
    "            \n",
    "            \n",
    "            \n",
    "            \n",
    "            \n",
    "            \n",
    "            \n",
    "            \n",
    "            \n",
    "            \n",
    "            \n",
    "            \n",
    "            "
   ]
  },
  {
   "cell_type": "code",
   "execution_count": 6,
   "metadata": {},
   "outputs": [
    {
     "name": "stdout",
     "output_type": "stream",
     "text": [
      "zero division error\n",
      "Please enter a number first :-4\n",
      "less than zero, please enter anther number\n"
     ]
    },
    {
     "ename": "TypeError",
     "evalue": "exceptions must derive from BaseException",
     "output_type": "error",
     "traceback": [
      "\u001b[1;31m---------------------------------------------------------------------------\u001b[0m",
      "\u001b[1;31mTypeError\u001b[0m                                 Traceback (most recent call last)",
      "\u001b[1;32m<ipython-input-6-fb3f5b85b125>\u001b[0m in \u001b[0;36m<module>\u001b[1;34m\u001b[0m\n\u001b[0;32m     77\u001b[0m \u001b[0md\u001b[0m\u001b[1;33m=\u001b[0m\u001b[0mDivision\u001b[0m\u001b[1;33m(\u001b[0m\u001b[1;36m4\u001b[0m\u001b[1;33m,\u001b[0m\u001b[1;36m0\u001b[0m\u001b[1;33m)\u001b[0m\u001b[1;33m\u001b[0m\u001b[1;33m\u001b[0m\u001b[0m\n\u001b[0;32m     78\u001b[0m \u001b[0md\u001b[0m\u001b[1;33m.\u001b[0m\u001b[0moperation\u001b[0m\u001b[1;33m(\u001b[0m\u001b[1;33m)\u001b[0m\u001b[1;33m\u001b[0m\u001b[1;33m\u001b[0m\u001b[0m\n\u001b[1;32m---> 79\u001b[1;33m \u001b[0md\u001b[0m\u001b[1;33m.\u001b[0m\u001b[0minput_from_user\u001b[0m\u001b[1;33m(\u001b[0m\u001b[1;33m)\u001b[0m\u001b[1;33m\u001b[0m\u001b[1;33m\u001b[0m\u001b[0m\n\u001b[0m",
      "\u001b[1;32m<ipython-input-6-fb3f5b85b125>\u001b[0m in \u001b[0;36minput_from_user\u001b[1;34m(self)\u001b[0m\n\u001b[0;32m     56\u001b[0m             \u001b[0mx\u001b[0m\u001b[1;33m=\u001b[0m \u001b[0mint\u001b[0m\u001b[1;33m(\u001b[0m\u001b[0minput\u001b[0m\u001b[1;33m(\u001b[0m\u001b[1;34m\"Please enter a number first :\"\u001b[0m\u001b[1;33m)\u001b[0m\u001b[1;33m)\u001b[0m\u001b[1;33m\u001b[0m\u001b[1;33m\u001b[0m\u001b[0m\n\u001b[0;32m     57\u001b[0m             \u001b[1;32mif\u001b[0m \u001b[0mx\u001b[0m\u001b[1;33m<\u001b[0m\u001b[1;36m0\u001b[0m\u001b[1;33m:\u001b[0m\u001b[1;33m\u001b[0m\u001b[1;33m\u001b[0m\u001b[0m\n\u001b[1;32m---> 58\u001b[1;33m                 \u001b[1;32mraise\u001b[0m \u001b[0mcatch_error\u001b[0m \u001b[1;32mand\u001b[0m \u001b[0mprint\u001b[0m\u001b[1;33m(\u001b[0m\u001b[1;34m\"less than zero, please enter anther number\"\u001b[0m\u001b[1;33m)\u001b[0m\u001b[1;33m\u001b[0m\u001b[1;33m\u001b[0m\u001b[0m\n\u001b[0m\u001b[0;32m     59\u001b[0m             \u001b[0my\u001b[0m\u001b[1;33m=\u001b[0m \u001b[0mint\u001b[0m\u001b[1;33m(\u001b[0m\u001b[0minput\u001b[0m\u001b[1;33m(\u001b[0m\u001b[1;34m\"Please enter a number second :\"\u001b[0m\u001b[1;33m)\u001b[0m\u001b[1;33m)\u001b[0m\u001b[1;33m\u001b[0m\u001b[1;33m\u001b[0m\u001b[0m\n\u001b[0;32m     60\u001b[0m             \u001b[0mz\u001b[0m \u001b[1;33m=\u001b[0m \u001b[0mx\u001b[0m\u001b[1;33m/\u001b[0m\u001b[0my\u001b[0m\u001b[1;33m\u001b[0m\u001b[1;33m\u001b[0m\u001b[0m\n",
      "\u001b[1;31mTypeError\u001b[0m: exceptions must derive from BaseException"
     ]
    }
   ],
   "source": [
    "from abc import ABC, abstractmethod\n",
    "\n",
    "class Interface_class(ABC):\n",
    "    @abstractmethod\n",
    "    def operation(self):\n",
    "        pass\n",
    "    \n",
    " # Child class:\n",
    "class Addition(Interface_class):\n",
    "    def __init__(self,a,b):\n",
    "        self.__a=a\n",
    "        self.__b=b\n",
    "        \n",
    "    def get_a(self):\n",
    "        return self.__a\n",
    "    \n",
    "    def set_a(self,a):\n",
    "        self.__a=a\n",
    "        \n",
    "    def get_b(self):\n",
    "        return self.__b\n",
    "    def set_b(self,b):\n",
    "        self.__b=b\n",
    "        \n",
    "        \n",
    "    def operation(self):\n",
    "        return self.get_a()+ self.get_b()\n",
    "    \n",
    "class catch_error(Exception):\n",
    "    pass\n",
    "    #print(\"less than zero not acceptable\")\n",
    "# class division\n",
    "class Division(Interface_class):\n",
    "    def __init__(self,a,b):\n",
    "        self.__a=a\n",
    "        self.__b=b\n",
    "        \n",
    "    def get_a(self):\n",
    "        return self.__a\n",
    "    def set_a(self,a):\n",
    "        self.__a=a\n",
    "    def get_b(self):\n",
    "        return self.__b\n",
    "    def set_b(self,b):\n",
    "        self.__b=b\n",
    "        \n",
    "    def operation(self):\n",
    "        try:\n",
    "            return self.__a / self.__b\n",
    "        #except Exception as e:\n",
    "        except ZeroDivisionError:\n",
    "            print(\"zero division error\")\n",
    "        \n",
    "    def input_from_user(self):\n",
    "        try:\n",
    "            x= int(input(\"Please enter a number first :\"))\n",
    "            if x<0:\n",
    "                raise catch_error and print(\"less than zero, please enter anther number\")\n",
    "            y= int(input(\"Please enter a number second :\"))\n",
    "            z = x/y\n",
    "            return z\n",
    "           # print(f)\n",
    "            \n",
    "        except ZeroDivisionError:\n",
    "            print(\"divided by zero\")\n",
    "        except ValueError:\n",
    "            print(\"not int type\")\n",
    "        except NameError:\n",
    "            print(\"not defined\")\n",
    "        else:\n",
    "            print(\"reuslt is\",z)\n",
    "    \n",
    "    \n",
    "\n",
    "a= Addition(2,14)\n",
    "a.operation()\n",
    "d=Division(4,0)\n",
    "d.operation()\n",
    "d.input_from_user()"
   ]
  },
  {
   "cell_type": "code",
   "execution_count": null,
   "metadata": {},
   "outputs": [],
   "source": [
    "#class par:\n",
    " #    def ad(self,x,y):\n",
    "  #      return x+y\n",
    "class parent:\n",
    "    aa_=0\n",
    "    def __init__(self,a,b):\n",
    "        self.a_=a\n",
    "        self.b=b\n",
    "        \n",
    "   \n",
    "class cchild(parent):\n",
    "  #override the parent class constructor so can't access the initilized data members\n",
    "   def __init__(self,a,b,c):\n",
    "        self.c=c\n",
    "        parent.__init__(self,a,b)\n",
    "       # self.a=a\n",
    "        #self.b =b\n",
    "        #self.c=c\n",
    "        \n",
    "ch=cchild(2,5,6)\n",
    "#print(ch.a)\n",
    "print(ch.aa_)\n",
    "print(ch.a_)\n",
    "#p=par()\n",
    "#p.ad(2,3)"
   ]
  },
  {
   "cell_type": "code",
   "execution_count": null,
   "metadata": {},
   "outputs": [],
   "source": []
  },
  {
   "cell_type": "code",
   "execution_count": null,
   "metadata": {},
   "outputs": [],
   "source": []
  }
 ],
 "metadata": {
  "kernelspec": {
   "display_name": "Python 3",
   "language": "python",
   "name": "python3"
  }
 },
 "nbformat": 4,
 "nbformat_minor": 4
}
